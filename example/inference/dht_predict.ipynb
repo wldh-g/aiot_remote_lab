{
 "cells": [
  {
   "cell_type": "markdown",
   "metadata": {},
   "source": [
    "# DHT22 Prediction Model\n",
    "\n",
    "The training code is provided by [@namyh18](https://github.com/namyh18)."
   ]
  },
  {
   "cell_type": "code",
   "execution_count": null,
   "metadata": {},
   "outputs": [],
   "source": [
    "import json\n",
    "import torch\n",
    "import torch.nn as nn\n",
    "import torch.onnx\n",
    "import numpy as np\n",
    "from torch.utils.data import DataLoader, Dataset"
   ]
  },
  {
   "cell_type": "markdown",
   "metadata": {},
   "source": [
    "### Class Definitions"
   ]
  },
  {
   "cell_type": "code",
   "execution_count": null,
   "metadata": {},
   "outputs": [],
   "source": [
    "class DHTDataset(Dataset):\n",
    "    def __init__(self, key):\n",
    "        self.data = []\n",
    "        self.target = []\n",
    "        self.key = key\n",
    "\n",
    "        db = open(\"db.json\", \"r\")\n",
    "        humi_temp = json.load(db)\n",
    "\n",
    "        for i in range(len(humi_temp.get(self.key))-62):\n",
    "            tmp_data = []\n",
    "            tmp_data.append([float(humi_temp.get(self.key)[i][1])])\n",
    "            tmp_data.append([float(humi_temp.get(self.key)[i+1][1])])\n",
    "            tmp_data.append([float(humi_temp.get(self.key)[i+2][1])])\n",
    "            self.data.append(torch.as_tensor(tmp_data))\n",
    "\n",
    "            self.target.append(\n",
    "                torch.as_tensor([float(humi_temp.get(self.key)[i+62][1])]))\n",
    "\n",
    "    def __len__(self):\n",
    "        return len(self.data)\n",
    "\n",
    "    def __getitem__(self, index):\n",
    "        data, target = self.data[index], self.target[index]\n",
    "        return data, target"
   ]
  },
  {
   "cell_type": "code",
   "execution_count": null,
   "id": "6655fbbd",
   "metadata": {},
   "outputs": [],
   "source": [
    "class SimpleModel(nn.Module):\n",
    "    def __init__(self):\n",
    "        super(SimpleModel, self).__init__()\n",
    "\n",
    "        self.linear = nn.Sequential(\n",
    "            nn.Linear(in_features=1, out_features=16, bias=True),\n",
    "            nn.ReLU(inplace=False),\n",
    "            nn.Linear(in_features=16, out_features=32, bias=True),\n",
    "            nn.ReLU(inplace=False)\n",
    "        )\n",
    "        self.classifier = nn.Sequential(\n",
    "            nn.Linear(in_features=96, out_features=32, bias=True),\n",
    "            nn.Dropout(p=0.5, inplace=False),\n",
    "            nn.Linear(in_features=32, out_features=1, bias=True)\n",
    "        )\n",
    "\n",
    "    def forward(self, x):\n",
    "        x = self.linear(x)\n",
    "        x = x.view(x.size(0), -1)\n",
    "        x = self.classifier(x)\n",
    "        return x"
   ]
  },
  {
   "cell_type": "markdown",
   "id": "b3bba4f6",
   "metadata": {},
   "source": [
    "### Function Definitions"
   ]
  },
  {
   "cell_type": "markdown",
   "id": "3460f0c0",
   "metadata": {},
   "source": [
    "##### A function to split dataset into several data loaders"
   ]
  },
  {
   "cell_type": "code",
   "execution_count": null,
   "id": "a92d7b1d",
   "metadata": {},
   "outputs": [],
   "source": [
    "def splitDataset(dataset):\n",
    "    test_size = int(len(dataset)/6)\n",
    "    val_size = int(len(dataset)/6)\n",
    "    train_size = len(dataset) - test_size - val_size\n",
    "\n",
    "    trainset, valset, testset = torch.utils.data.random_split(\n",
    "        dataset, [train_size, val_size, test_size])\n",
    "\n",
    "    trainloader = DataLoader(trainset, batch_size=16, shuffle=True)\n",
    "    validloader = DataLoader(valset, batch_size=16, shuffle=True)\n",
    "    testloader = DataLoader(testset, batch_size=16, shuffle=True)\n",
    "\n",
    "    return trainloader, validloader, testloader"
   ]
  },
  {
   "cell_type": "markdown",
   "id": "610be662",
   "metadata": {},
   "source": [
    "##### A function to train model"
   ]
  },
  {
   "cell_type": "code",
   "execution_count": null,
   "id": "828d4386",
   "metadata": {},
   "outputs": [],
   "source": [
    "def train_model(model, patience, num_epochs, train_loader, valid_loader):\n",
    "    train_losses = []\n",
    "    valid_losses = []\n",
    "    mean_train_losses = []\n",
    "    mean_valid_losses = []\n",
    "    p = 0\n",
    "    min_valid_loss = float(\"inf\")\n",
    "\n",
    "    criterion = nn.MSELoss()\n",
    "    optimizer = torch.optim.Adam(model.parameters(), lr=0.001)\n",
    "\n",
    "    for epoch in range(1, num_epochs + 1):\n",
    "\n",
    "        model.train()\n",
    "        for train_data, train_target in train_loader:\n",
    "            if torch.cuda.is_available():\n",
    "                device = torch.device(\"cuda\")\n",
    "                train_data = train_data.to(device, dtype=torch.float)\n",
    "                train_target = train_target.to(device, dtype=torch.float)\n",
    "            optimizer.zero_grad()\n",
    "            output = model(train_data)\n",
    "            loss = criterion(output, train_target)\n",
    "            loss.backward()\n",
    "            optimizer.step()\n",
    "            train_losses.append(loss.item())\n",
    "\n",
    "        model.eval()\n",
    "\n",
    "        for valid_data, valid_target in valid_loader:\n",
    "            if torch.cuda.is_available():\n",
    "                device = torch.device(\"cuda\")\n",
    "                valid_data = valid_data.to(device, dtype=torch.float)\n",
    "                valid_target = valid_target.to(device, dtype=torch.float)\n",
    "            output = model(valid_data)\n",
    "            loss = criterion(output, valid_target)\n",
    "            valid_losses.append(loss.item())\n",
    "\n",
    "        train_loss = np.mean(train_losses)\n",
    "        valid_loss = np.mean(valid_losses)\n",
    "        mean_train_losses.append(train_loss)\n",
    "        mean_valid_losses.append(valid_loss)\n",
    "\n",
    "        if min_valid_loss > valid_loss:\n",
    "            min_valid_loss = valid_loss\n",
    "            print(f\"min_valid_loss: {min_valid_loss}\")\n",
    "\n",
    "        epoch_len = len(str(num_epochs))\n",
    "        print_msg = (f\"[{epoch:>{epoch_len}}/{num_epochs:>{epoch_len}}] \" +\n",
    "                     f\"train_loss: {train_loss:.5f} \" +\n",
    "                     f\"valid_loss: {valid_loss:.5f} \")\n",
    "        print(print_msg)\n",
    "\n",
    "        train_losses = []\n",
    "        valid_losses = []\n",
    "\n",
    "        if min_valid_loss < valid_loss and epoch > 1:\n",
    "            p = p + 1\n",
    "            print(f'patience: {p}')\n",
    "        else:\n",
    "            p = 0\n",
    "            torch.save(model.state_dict(), \"bestmodel.pt\")\n",
    "            print(\"Saving Model...\")\n",
    "\n",
    "        if patience == p:\n",
    "            print(\"Early stopping\")\n",
    "            break\n",
    "\n",
    "    model.load_state_dict(torch.load(\"bestmodel.pt\"))\n",
    "\n",
    "    return model"
   ]
  },
  {
   "cell_type": "markdown",
   "id": "83317dae",
   "metadata": {},
   "source": [
    "### Training"
   ]
  },
  {
   "cell_type": "markdown",
   "metadata": {},
   "source": [
    "##### Load datasets and get dataloaders"
   ]
  },
  {
   "cell_type": "code",
   "execution_count": null,
   "metadata": {},
   "outputs": [],
   "source": [
    "tempDataset = DHTDataset(\"temperature\")\n",
    "humiDataset = DHTDataset(\"humidity\")\n",
    "\n",
    "temp_trainloader, temp_validloader, temp_testloader = splitDataset(tempDataset)\n",
    "humi_trainloader, humi_validloader, humi_testloader = splitDataset(humiDataset)"
   ]
  },
  {
   "cell_type": "markdown",
   "metadata": {},
   "source": [
    "##### Make models"
   ]
  },
  {
   "cell_type": "code",
   "execution_count": null,
   "metadata": {},
   "outputs": [],
   "source": [
    "tempModel = SimpleModel()\n",
    "humiModel = SimpleModel()\n",
    "\n",
    "if torch.cuda.is_available():\n",
    "    tempModel = tempModel.cuda()\n",
    "    humiModel = humiModel.cuda()"
   ]
  },
  {
   "cell_type": "markdown",
   "metadata": {},
   "source": [
    "##### Do training with earlystopping"
   ]
  },
  {
   "cell_type": "code",
   "execution_count": null,
   "metadata": {},
   "outputs": [],
   "source": [
    "temp_predict_model = train_model(tempModel, patience=30, num_epochs=1000,\n",
    "                                 train_loader=temp_trainloader,\n",
    "                                 valid_loader=temp_validloader)\n",
    "torch.save(temp_predict_model.state_dict(), \"temp_predict.pt\")"
   ]
  },
  {
   "cell_type": "code",
   "execution_count": null,
   "metadata": {},
   "outputs": [],
   "source": [
    "humi_predict_model = train_model(humiModel, patience=30, num_epochs=1000,\n",
    "                                 train_loader=humi_trainloader,\n",
    "                                 valid_loader=humi_validloader)\n",
    "torch.save(humi_predict_model.state_dict(), \"humi_predict.pt\")"
   ]
  },
  {
   "cell_type": "markdown",
   "metadata": {},
   "source": [
    "### ONNX Coversion"
   ]
  },
  {
   "cell_type": "code",
   "execution_count": null,
   "id": "c64233ee",
   "metadata": {},
   "outputs": [],
   "source": [
    "def convert_to_onnx(saved_file_name):\n",
    "    saved_model = SimpleModel()\n",
    "    saved_model.load_state_dict(torch.load(saved_file_name))\n",
    "    saved_model.eval()\n",
    "    torch.onnx.export(\n",
    "        saved_model,\n",
    "        torch.randn((1, 3, 1)),\n",
    "        saved_file_name[:-3] + '.onnx',\n",
    "        opset_version=11,\n",
    "        do_constant_folding=True,\n",
    "        input_names=[\"input\"],\n",
    "        output_names=[\"output\"]\n",
    "    )"
   ]
  },
  {
   "cell_type": "code",
   "execution_count": null,
   "metadata": {},
   "outputs": [],
   "source": [
    "convert_to_onnx(\"temp_predict.pt\")\n",
    "convert_to_onnx(\"humi_predict.pt\")\n",
    "\n",
    "# convert_to_onnx(\"example/inference/temp_predict.pt\")\n",
    "# convert_to_onnx(\"example/inference/humi_predict.pt\")"
   ]
  },
  {
   "cell_type": "code",
   "execution_count": null,
   "id": "980f3ab3",
   "metadata": {},
   "outputs": [],
   "source": [
    "# End of Document."
   ]
  }
 ],
 "metadata": {
  "kernelspec": {
   "display_name": "Python 3",
   "language": "python",
   "name": "python3"
  },
  "language_info": {
   "codemirror_mode": {
    "name": "ipython",
    "version": 3
   },
   "file_extension": ".py",
   "mimetype": "text/x-python",
   "name": "python",
   "nbconvert_exporter": "python",
   "pygments_lexer": "ipython3",
   "version": "3.9.7"
  }
 },
 "nbformat": 4,
 "nbformat_minor": 5
}
